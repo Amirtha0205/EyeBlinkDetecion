{
 "cells": [
  {
   "cell_type": "markdown",
   "id": "surrounded-announcement",
   "metadata": {},
   "source": [
    "# Import necessary libraries\n"
   ]
  },
  {
   "cell_type": "code",
   "execution_count": 1,
   "id": "complex-minimum",
   "metadata": {},
   "outputs": [],
   "source": [
    "import numpy as np\n",
    "import cv2"
   ]
  },
  {
   "cell_type": "markdown",
   "id": "distinct-functionality",
   "metadata": {},
   "source": [
    "# Save the pretrained model in your device"
   ]
  },
  {
   "cell_type": "code",
   "execution_count": 2,
   "id": "dirty-french",
   "metadata": {},
   "outputs": [],
   "source": [
    "face_cascade = cv2.CascadeClassifier('haarcascade_frontalface_default.xml')\n",
    "eye_cascade = cv2.CascadeClassifier('haarcascade_eye.xml')"
   ]
  },
  {
   "cell_type": "markdown",
   "id": "certain-project",
   "metadata": {},
   "source": [
    "# Detecting eye blink"
   ]
  },
  {
   "cell_type": "code",
   "execution_count": 6,
   "id": "interracial-harbor",
   "metadata": {},
   "outputs": [
    {
     "name": "stdout",
     "output_type": "stream",
     "text": [
      "You blinked your eye for 5 times in  2  seconds\n"
     ]
    }
   ],
   "source": [
    "import time\n",
    "cap = cv2.VideoCapture(0)\n",
    "\n",
    "#ret,img = cap.read()\n",
    "cnt=0\n",
    "t=True\n",
    "ko=True\n",
    "\n",
    "while True:\n",
    "    _,img = cap.read()\n",
    "    \n",
    "    \n",
    "    #Coverting the recorded image to grayscale\n",
    "    gray = cv2.cvtColor(img, cv2.COLOR_BGR2GRAY)\n",
    "    #Applying filter to remove impurities\n",
    "    gray = cv2.bilateralFilter(gray,5,1,1)\n",
    "    #Detecting the face for region of image to be fed to eye classifier\n",
    "    faces = face_cascade.detectMultiScale(gray, 1.3, 5)#,minSize=(200,200))\n",
    "    if ko==True:\n",
    "        amindha=(time.time())\n",
    "        ko=False\n",
    "    if(len(faces)>0):\n",
    "        for (x,y,w,h) in faces:\n",
    "            \n",
    "            img = cv2.rectangle(img,(x,y),(x+w,y+h),(0,255,0),2)\n",
    "            cv2.putText(img,str(cnt),(100,100),cv2.FONT_HERSHEY_PLAIN, 3,(0,255,0),2)\n",
    "            #roi_face is face which is input to eye classifier\n",
    "            roi_face = gray[y:y+h,x:x+w]\n",
    "            roi_face_clr = img[y:y+h,x:x+w]\n",
    "            eyes = eye_cascade.detectMultiScale(roi_face,1.3,5)#,minSize=(50,50))\n",
    "            if(len(eyes)==2):\n",
    "                t=True\n",
    "                cv2.putText(img,\"Eye open\",(70,70),cv2.FONT_HERSHEY_PLAIN, 3,(0,255,0),2)\n",
    "            else:\n",
    "                cv2.putText(img, \"Eyes closed!\", (70,70),cv2.FONT_HERSHEY_PLAIN, 2,(255,255,255),2)\n",
    "                #Increase the count when you close/blink your eyes\n",
    "                if t==True:\n",
    "                    cnt=cnt+1\n",
    "                    t=False           \n",
    "  \n",
    "    else:\n",
    "        cv2.putText(img,\"No face detected\",(100,100),cv2.FONT_HERSHEY_PLAIN, 3,(0,255,0),2)\n",
    "  \n",
    "    #Controlling the algorithm with keys\n",
    "    cv2.imshow('img',img)\n",
    "    a = cv2.waitKey(1)\n",
    "    if(a==ord('q')):\n",
    "        break\n",
    "    if(cnt==5):#Stops execution and returns the seconds when the count reaches 5 times\n",
    "        sat=time.time()\n",
    "        bot=sat-amindha\n",
    "        print('You blinked your eye for 5 times in ',int(bot),\" seconds\")        \n",
    "        break\n",
    "        \n",
    "\n",
    "cap.release()\n",
    "cv2.destroyAllWindows()"
   ]
  },
  {
   "cell_type": "markdown",
   "id": "exact-nevada",
   "metadata": {},
   "source": [
    "Execution stops when we blink our eye for more than 5 times. And returns the seconds we withstand without blinking."
   ]
  },
  {
   "cell_type": "code",
   "execution_count": null,
   "id": "varying-technician",
   "metadata": {},
   "outputs": [],
   "source": []
  }
 ],
 "metadata": {
  "kernelspec": {
   "display_name": "Python 3",
   "language": "python",
   "name": "python3"
  },
  "language_info": {
   "codemirror_mode": {
    "name": "ipython",
    "version": 3
   },
   "file_extension": ".py",
   "mimetype": "text/x-python",
   "name": "python",
   "nbconvert_exporter": "python",
   "pygments_lexer": "ipython3",
   "version": "3.8.5"
  }
 },
 "nbformat": 4,
 "nbformat_minor": 5
}
